{
  "nbformat": 4,
  "nbformat_minor": 0,
  "metadata": {
    "colab": {
      "provenance": [],
      "authorship_tag": "ABX9TyN/82E2rIKy4athkqU+ayBi",
      "include_colab_link": true
    },
    "kernelspec": {
      "name": "python3",
      "display_name": "Python 3"
    },
    "language_info": {
      "name": "python"
    }
  },
  "cells": [
    {
      "cell_type": "markdown",
      "metadata": {
        "id": "view-in-github",
        "colab_type": "text"
      },
      "source": [
        "<a href=\"https://colab.research.google.com/github/ian-obotey/Machine-Learning-Techniques-Templates/blob/main/Data_Preprocessing.ipynb\" target=\"_parent\"><img src=\"https://colab.research.google.com/assets/colab-badge.svg\" alt=\"Open In Colab\"/></a>"
      ]
    },
    {
      "cell_type": "markdown",
      "source": [
        "**The machine learning process:**\n",
        "\n",
        "**Data preprocessing**\n",
        "\n",
        "\n",
        "*   Import the data\n",
        "*   Clean the data  \n",
        "*   Split into training and test sets\n",
        "\n",
        "**Modelling**\n",
        "*   Build the model\n",
        "*   Train the model\n",
        "*   Make predictions\n",
        "\n",
        "**Evaluation**\n",
        "\n",
        "\n",
        "*   Calculate performance metric\n",
        "*   Make a prediction\n",
        "\n",
        "\n",
        "\n",
        "\n"
      ],
      "metadata": {
        "id": "RjgmOXBEQeeJ"
      }
    },
    {
      "cell_type": "markdown",
      "source": [],
      "metadata": {
        "id": "ovafFfP-QjYP"
      }
    }
  ]
}